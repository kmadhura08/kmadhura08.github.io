{
 "cells": [
  {
   "cell_type": "markdown",
   "id": "d129939a",
   "metadata": {},
   "source": [
    "### Assignment 10"
   ]
  },
  {
   "cell_type": "code",
   "execution_count": 4,
   "id": "06055b5d",
   "metadata": {},
   "outputs": [],
   "source": [
    "import altair as alt\n",
    "import pandas as pd"
   ]
  },
  {
   "cell_type": "code",
   "execution_count": 5,
   "id": "4ea89078",
   "metadata": {},
   "outputs": [],
   "source": [
    "alt.Chart.from_dict?"
   ]
  },
  {
   "cell_type": "code",
   "execution_count": 8,
   "id": "033295b0",
   "metadata": {},
   "outputs": [],
   "source": [
    "chart1 = alt.Chart.from_dict(\n",
    "{\n",
    "  'data': {\"url\": \"https://raw.githubusercontent.com/UIUC-iSchool-DataViz/is445_bcubcg_fall2022/main/data/building_inventory.csv\"\n",
    "  }, \n",
    "  'width' : 250,\n",
    "  'height' : 1000,\n",
    "  'title': \"Square Footage per County\",\n",
    "  'mark': {\"type\":\"bar\", \"tooltip\": {\"content\": \"data\"}},\n",
    "  'encoding': {\n",
    "    \"x\": {\"aggregate\": \"sum\", \"field\": \"Square Footage\", \"type\": \"quantitative\", \"title\": \"Square Footage\"},\n",
    "    \"y\": {\"field\": \"County\", \"type\": \"nominal\"},\n",
    "    \"color\": {\"value\": \"green\"}\n",
    "  }\n",
    "}).interactive()"
   ]
  },
  {
   "cell_type": "code",
   "execution_count": 9,
   "id": "c7f0cc1c",
   "metadata": {},
   "outputs": [
    {
     "data": {
      "text/html": [
       "\n",
       "<div id=\"altair-viz-f3a1c863a56143968462c1e66f35a838\"></div>\n",
       "<script type=\"text/javascript\">\n",
       "  var VEGA_DEBUG = (typeof VEGA_DEBUG == \"undefined\") ? {} : VEGA_DEBUG;\n",
       "  (function(spec, embedOpt){\n",
       "    let outputDiv = document.currentScript.previousElementSibling;\n",
       "    if (outputDiv.id !== \"altair-viz-f3a1c863a56143968462c1e66f35a838\") {\n",
       "      outputDiv = document.getElementById(\"altair-viz-f3a1c863a56143968462c1e66f35a838\");\n",
       "    }\n",
       "    const paths = {\n",
       "      \"vega\": \"https://cdn.jsdelivr.net/npm//vega@5?noext\",\n",
       "      \"vega-lib\": \"https://cdn.jsdelivr.net/npm//vega-lib?noext\",\n",
       "      \"vega-lite\": \"https://cdn.jsdelivr.net/npm//vega-lite@4.17.0?noext\",\n",
       "      \"vega-embed\": \"https://cdn.jsdelivr.net/npm//vega-embed@6?noext\",\n",
       "    };\n",
       "\n",
       "    function maybeLoadScript(lib, version) {\n",
       "      var key = `${lib.replace(\"-\", \"\")}_version`;\n",
       "      return (VEGA_DEBUG[key] == version) ?\n",
       "        Promise.resolve(paths[lib]) :\n",
       "        new Promise(function(resolve, reject) {\n",
       "          var s = document.createElement('script');\n",
       "          document.getElementsByTagName(\"head\")[0].appendChild(s);\n",
       "          s.async = true;\n",
       "          s.onload = () => {\n",
       "            VEGA_DEBUG[key] = version;\n",
       "            return resolve(paths[lib]);\n",
       "          };\n",
       "          s.onerror = () => reject(`Error loading script: ${paths[lib]}`);\n",
       "          s.src = paths[lib];\n",
       "        });\n",
       "    }\n",
       "\n",
       "    function showError(err) {\n",
       "      outputDiv.innerHTML = `<div class=\"error\" style=\"color:red;\">${err}</div>`;\n",
       "      throw err;\n",
       "    }\n",
       "\n",
       "    function displayChart(vegaEmbed) {\n",
       "      vegaEmbed(outputDiv, spec, embedOpt)\n",
       "        .catch(err => showError(`Javascript Error: ${err.message}<br>This usually means there's a typo in your chart specification. See the javascript console for the full traceback.`));\n",
       "    }\n",
       "\n",
       "    if(typeof define === \"function\" && define.amd) {\n",
       "      requirejs.config({paths});\n",
       "      require([\"vega-embed\"], displayChart, err => showError(`Error loading script: ${err.message}`));\n",
       "    } else {\n",
       "      maybeLoadScript(\"vega\", \"5\")\n",
       "        .then(() => maybeLoadScript(\"vega-lite\", \"4.17.0\"))\n",
       "        .then(() => maybeLoadScript(\"vega-embed\", \"6\"))\n",
       "        .catch(showError)\n",
       "        .then(() => displayChart(vegaEmbed));\n",
       "    }\n",
       "  })({\"config\": {\"view\": {\"continuousWidth\": 400, \"continuousHeight\": 300}}, \"data\": {\"url\": \"https://raw.githubusercontent.com/UIUC-iSchool-DataViz/is445_bcubcg_fall2022/main/data/building_inventory.csv\"}, \"mark\": {\"type\": \"bar\", \"tooltip\": {\"content\": \"data\"}}, \"encoding\": {\"color\": {\"value\": \"green\"}, \"x\": {\"aggregate\": \"sum\", \"field\": \"Square Footage\", \"title\": \"Square Footage\", \"type\": \"quantitative\"}, \"y\": {\"field\": \"County\", \"type\": \"nominal\"}}, \"height\": 1000, \"selection\": {\"selector002\": {\"type\": \"interval\", \"bind\": \"scales\", \"encodings\": [\"x\", \"y\"]}}, \"title\": \"Square Footage per County\", \"width\": 250, \"$schema\": \"https://vega.github.io/schema/vega-lite/v4.17.0.json\"}, {\"mode\": \"vega-lite\"});\n",
       "</script>"
      ],
      "text/plain": [
       "alt.Chart(...)"
      ]
     },
     "execution_count": 9,
     "metadata": {},
     "output_type": "execute_result"
    }
   ],
   "source": [
    "chart1"
   ]
  },
  {
   "cell_type": "markdown",
   "id": "78dd320f",
   "metadata": {},
   "source": [
    "## LOOK at vidoe week 10 video 01:18:00"
   ]
  },
  {
   "cell_type": "code",
   "execution_count": 15,
   "id": "4307b9a4",
   "metadata": {},
   "outputs": [],
   "source": [
    "myJekyllDir = r'C:\\Users\\PC\\kmadhura08.github.io\\assets\\json\\json'"
   ]
  },
  {
   "cell_type": "code",
   "execution_count": 16,
   "id": "6b66f5e0",
   "metadata": {},
   "outputs": [],
   "source": [
    "chart1.properties(width='container').save(myJekyllDir+'sq_footage.json')\n",
    "# note the \"container\" property allows us to resize the visualization \n",
    "# when the page is resized"
   ]
  },
  {
   "cell_type": "code",
   "execution_count": 18,
   "id": "05a343a7",
   "metadata": {},
   "outputs": [],
   "source": [
    "chart2 = alt.Chart.from_dict(\n",
    "{\n",
    "  'data': {\"url\": \"https://uiuc-ischool-dataviz.github.io/spring2019online/week02/building_inventory.csv\"\n",
    "  }, \n",
    "  'width' : 800,\n",
    "  'height' : 350,\n",
    "  'title': \"Number of Floors per Usage Category\",\n",
    "  'mark': {\"type\":\"bar\", \"tooltip\": {\"content\": \"data\"}},\n",
    "  'encoding': {\n",
    "    \"x\": {\"aggregate\": \"sum\", \"field\": \"Total Floors\", \"type\": \"quantitative\", \"title\": \"Number of Floors\"},\n",
    "    \"y\": {\"field\": \"Usage Description\", \"type\": \"nominal\"},\n",
    "    \"color\": {\"value\": \"blue\"}\n",
    "  }\n",
    "}).interactive()"
   ]
  },
  {
   "cell_type": "code",
   "execution_count": 19,
   "id": "e887bd73",
   "metadata": {},
   "outputs": [
    {
     "data": {
      "text/html": [
       "\n",
       "<div id=\"altair-viz-6722584664d54309a432b89f76ddf5b9\"></div>\n",
       "<script type=\"text/javascript\">\n",
       "  var VEGA_DEBUG = (typeof VEGA_DEBUG == \"undefined\") ? {} : VEGA_DEBUG;\n",
       "  (function(spec, embedOpt){\n",
       "    let outputDiv = document.currentScript.previousElementSibling;\n",
       "    if (outputDiv.id !== \"altair-viz-6722584664d54309a432b89f76ddf5b9\") {\n",
       "      outputDiv = document.getElementById(\"altair-viz-6722584664d54309a432b89f76ddf5b9\");\n",
       "    }\n",
       "    const paths = {\n",
       "      \"vega\": \"https://cdn.jsdelivr.net/npm//vega@5?noext\",\n",
       "      \"vega-lib\": \"https://cdn.jsdelivr.net/npm//vega-lib?noext\",\n",
       "      \"vega-lite\": \"https://cdn.jsdelivr.net/npm//vega-lite@4.17.0?noext\",\n",
       "      \"vega-embed\": \"https://cdn.jsdelivr.net/npm//vega-embed@6?noext\",\n",
       "    };\n",
       "\n",
       "    function maybeLoadScript(lib, version) {\n",
       "      var key = `${lib.replace(\"-\", \"\")}_version`;\n",
       "      return (VEGA_DEBUG[key] == version) ?\n",
       "        Promise.resolve(paths[lib]) :\n",
       "        new Promise(function(resolve, reject) {\n",
       "          var s = document.createElement('script');\n",
       "          document.getElementsByTagName(\"head\")[0].appendChild(s);\n",
       "          s.async = true;\n",
       "          s.onload = () => {\n",
       "            VEGA_DEBUG[key] = version;\n",
       "            return resolve(paths[lib]);\n",
       "          };\n",
       "          s.onerror = () => reject(`Error loading script: ${paths[lib]}`);\n",
       "          s.src = paths[lib];\n",
       "        });\n",
       "    }\n",
       "\n",
       "    function showError(err) {\n",
       "      outputDiv.innerHTML = `<div class=\"error\" style=\"color:red;\">${err}</div>`;\n",
       "      throw err;\n",
       "    }\n",
       "\n",
       "    function displayChart(vegaEmbed) {\n",
       "      vegaEmbed(outputDiv, spec, embedOpt)\n",
       "        .catch(err => showError(`Javascript Error: ${err.message}<br>This usually means there's a typo in your chart specification. See the javascript console for the full traceback.`));\n",
       "    }\n",
       "\n",
       "    if(typeof define === \"function\" && define.amd) {\n",
       "      requirejs.config({paths});\n",
       "      require([\"vega-embed\"], displayChart, err => showError(`Error loading script: ${err.message}`));\n",
       "    } else {\n",
       "      maybeLoadScript(\"vega\", \"5\")\n",
       "        .then(() => maybeLoadScript(\"vega-lite\", \"4.17.0\"))\n",
       "        .then(() => maybeLoadScript(\"vega-embed\", \"6\"))\n",
       "        .catch(showError)\n",
       "        .then(() => displayChart(vegaEmbed));\n",
       "    }\n",
       "  })({\"config\": {\"view\": {\"continuousWidth\": 400, \"continuousHeight\": 300}}, \"data\": {\"url\": \"https://uiuc-ischool-dataviz.github.io/spring2019online/week02/building_inventory.csv\"}, \"mark\": {\"type\": \"bar\", \"tooltip\": {\"content\": \"data\"}}, \"encoding\": {\"color\": {\"value\": \"blue\"}, \"x\": {\"aggregate\": \"sum\", \"field\": \"Total Floors\", \"title\": \"Number of Floors\", \"type\": \"quantitative\"}, \"y\": {\"field\": \"Usage Description\", \"type\": \"nominal\"}}, \"height\": 350, \"selection\": {\"selector003\": {\"type\": \"interval\", \"bind\": \"scales\", \"encodings\": [\"x\", \"y\"]}}, \"title\": \"Number of Floors per Usage Category\", \"width\": 800, \"$schema\": \"https://vega.github.io/schema/vega-lite/v4.17.0.json\"}, {\"mode\": \"vega-lite\"});\n",
       "</script>"
      ],
      "text/plain": [
       "alt.Chart(...)"
      ]
     },
     "execution_count": 19,
     "metadata": {},
     "output_type": "execute_result"
    }
   ],
   "source": [
    "chart2"
   ]
  },
  {
   "cell_type": "code",
   "execution_count": 20,
   "id": "183dfbcb",
   "metadata": {},
   "outputs": [],
   "source": [
    "myJekyllDir = r'C:\\Users\\PC\\kmadhura08.github.io\\assets\\json\\json'"
   ]
  },
  {
   "cell_type": "code",
   "execution_count": 21,
   "id": "f0bf5cec",
   "metadata": {},
   "outputs": [],
   "source": [
    "chart2.properties(width='container').save(myJekyllDir+'floors.json')\n",
    "# note the \"container\" property allows us to resize the visualization \n",
    "# when the page is resized"
   ]
  },
  {
   "cell_type": "code",
   "execution_count": null,
   "id": "0edb7279",
   "metadata": {},
   "outputs": [],
   "source": []
  }
 ],
 "metadata": {
  "kernelspec": {
   "display_name": "Python 3 (ipykernel)",
   "language": "python",
   "name": "python3"
  },
  "language_info": {
   "codemirror_mode": {
    "name": "ipython",
    "version": 3
   },
   "file_extension": ".py",
   "mimetype": "text/x-python",
   "name": "python",
   "nbconvert_exporter": "python",
   "pygments_lexer": "ipython3",
   "version": "3.7.12"
  }
 },
 "nbformat": 4,
 "nbformat_minor": 5
}
