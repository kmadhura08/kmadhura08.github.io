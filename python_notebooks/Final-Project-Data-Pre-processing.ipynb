{
 "cells": [
  {
   "cell_type": "markdown",
   "id": "79226106",
   "metadata": {},
   "source": [
    "# How successful is Lyft at BayWheels?\n",
    "\n",
    "<b>Group Members:</b> </br>\n",
    "Himank Dave hjdvae2@illinois.edu </br>\n",
    "Madhura Kulkarni msk10@illinois.edu </br>\n"
   ]
  },
  {
   "cell_type": "code",
   "execution_count": 23,
   "id": "71221b31",
   "metadata": {},
   "outputs": [],
   "source": [
    "# Importing the necessary libraries\n",
    "import pandas as pd\n",
    "import calendar\n",
    "import matplotlib.pyplot as plt\n",
    "from matplotlib.font_manager import FontProperties\n",
    "import os\n",
    "from datetime import time\n",
    "from datetime import datetime\n",
    "import math \n",
    "import warnings\n",
    "warnings.filterwarnings(\"ignore\")\n",
    "import ipywidgets\n",
    "import bqplot\n",
    "from bqplot import pyplot as plt\n",
    "from bqplot import LinearScale\n",
    "import seaborn as sns"
   ]
  },
  {
   "cell_type": "code",
   "execution_count": 2,
   "id": "91806296",
   "metadata": {},
   "outputs": [],
   "source": [
    "# Reading all the data files\n",
    "data1= pd.read_csv(\"202101-baywheels-tripdata.csv\")\n",
    "data2= pd.read_csv(\"202102-baywheels-tripdata.csv\")\n",
    "data3= pd.read_csv(\"202103-baywheels-tripdata.csv\")\n",
    "data4= pd.read_csv(\"202104-baywheels-tripdata.csv\")\n",
    "data5= pd.read_csv(\"202105-baywheels-tripdata.csv\")\n",
    "data6= pd.read_csv(\"202106-baywheels-tripdata.csv\")\n",
    "data7= pd.read_csv(\"202107-baywheels-tripdata.csv\")\n",
    "data8= pd.read_csv(\"202108-baywheels-tripdata.csv\")\n",
    "data9= pd.read_csv(\"202109-baywheels-tripdata.csv\")\n",
    "data10= pd.read_csv(\"202110-baywheels-tripdata.csv\")\n",
    "data11= pd.read_csv(\"202111-baywheels-tripdata.csv\")\n",
    "data12= pd.read_csv(\"202112-baywheels-tripdata.csv\")\n",
    "data13= pd.read_csv(\"202201-baywheels-tripdata.csv\")\n",
    "data14= pd.read_csv(\"202202-baywheels-tripdata.csv\")\n",
    "data15= pd.read_csv(\"202203-baywheels-tripdata.csv\")\n",
    "data16= pd.read_csv(\"202204-baywheels-tripdata.csv\")\n",
    "data17= pd.read_csv(\"202205-baywheels-tripdata.csv\")\n",
    "data18= pd.read_csv(\"202206-baywheels-tripdata.csv\")\n",
    "data19= pd.read_csv(\"202207-baywheels-tripdata.csv\")\n",
    "data20= pd.read_csv(\"202208-baywheels-tripdata.csv\")\n",
    "data21= pd.read_csv(\"202209-baywheels-tripdata.csv\")\n",
    "data22= pd.read_csv(\"202210-baywheels-tripdata.csv\")"
   ]
  },
  {
   "cell_type": "code",
   "execution_count": 3,
   "id": "1b1d2b65",
   "metadata": {},
   "outputs": [],
   "source": [
    "# Merging all the files using the concat function\n",
    "final_df=pd.concat([data1,data2, data3, data4, data5, data6, data7, data8, data9, data10, data11, data12, data13, data14, data15, data16, data17, data18, data19, data20, data21, data22])"
   ]
  },
  {
   "cell_type": "code",
   "execution_count": 4,
   "id": "06a1a214",
   "metadata": {},
   "outputs": [
    {
     "data": {
      "text/html": [
       "<div>\n",
       "<style scoped>\n",
       "    .dataframe tbody tr th:only-of-type {\n",
       "        vertical-align: middle;\n",
       "    }\n",
       "\n",
       "    .dataframe tbody tr th {\n",
       "        vertical-align: top;\n",
       "    }\n",
       "\n",
       "    .dataframe thead th {\n",
       "        text-align: right;\n",
       "    }\n",
       "</style>\n",
       "<table border=\"1\" class=\"dataframe\">\n",
       "  <thead>\n",
       "    <tr style=\"text-align: right;\">\n",
       "      <th></th>\n",
       "      <th>ride_id</th>\n",
       "      <th>rideable_type</th>\n",
       "      <th>started_at</th>\n",
       "      <th>ended_at</th>\n",
       "      <th>start_station_name</th>\n",
       "      <th>start_station_id</th>\n",
       "      <th>end_station_name</th>\n",
       "      <th>end_station_id</th>\n",
       "      <th>start_lat</th>\n",
       "      <th>start_lng</th>\n",
       "      <th>end_lat</th>\n",
       "      <th>end_lng</th>\n",
       "      <th>member_casual</th>\n",
       "    </tr>\n",
       "  </thead>\n",
       "  <tbody>\n",
       "    <tr>\n",
       "      <th>0</th>\n",
       "      <td>357CDE244D24405B</td>\n",
       "      <td>electric_bike</td>\n",
       "      <td>2021-01-26 11:32:59</td>\n",
       "      <td>2021-01-26 11:38:21</td>\n",
       "      <td>NaN</td>\n",
       "      <td>NaN</td>\n",
       "      <td>NaN</td>\n",
       "      <td>NaN</td>\n",
       "      <td>37.760000</td>\n",
       "      <td>-122.410000</td>\n",
       "      <td>37.760000</td>\n",
       "      <td>-122.420000</td>\n",
       "      <td>casual</td>\n",
       "    </tr>\n",
       "    <tr>\n",
       "      <th>1</th>\n",
       "      <td>19A3E1F4211D0EE8</td>\n",
       "      <td>electric_bike</td>\n",
       "      <td>2021-01-26 14:16:37</td>\n",
       "      <td>2021-01-26 14:19:24</td>\n",
       "      <td>NaN</td>\n",
       "      <td>NaN</td>\n",
       "      <td>NaN</td>\n",
       "      <td>NaN</td>\n",
       "      <td>37.770000</td>\n",
       "      <td>-122.410000</td>\n",
       "      <td>37.760000</td>\n",
       "      <td>-122.410000</td>\n",
       "      <td>casual</td>\n",
       "    </tr>\n",
       "    <tr>\n",
       "      <th>2</th>\n",
       "      <td>27004D90ADC81AFF</td>\n",
       "      <td>electric_bike</td>\n",
       "      <td>2021-01-26 14:02:37</td>\n",
       "      <td>2021-01-26 14:06:35</td>\n",
       "      <td>NaN</td>\n",
       "      <td>NaN</td>\n",
       "      <td>NaN</td>\n",
       "      <td>NaN</td>\n",
       "      <td>37.760000</td>\n",
       "      <td>-122.420000</td>\n",
       "      <td>37.770000</td>\n",
       "      <td>-122.410000</td>\n",
       "      <td>casual</td>\n",
       "    </tr>\n",
       "    <tr>\n",
       "      <th>3</th>\n",
       "      <td>2F81FCA3D9CD056A</td>\n",
       "      <td>electric_bike</td>\n",
       "      <td>2021-01-26 15:03:05</td>\n",
       "      <td>2021-01-26 15:07:25</td>\n",
       "      <td>NaN</td>\n",
       "      <td>NaN</td>\n",
       "      <td>NaN</td>\n",
       "      <td>NaN</td>\n",
       "      <td>37.760000</td>\n",
       "      <td>-122.410000</td>\n",
       "      <td>37.760000</td>\n",
       "      <td>-122.420000</td>\n",
       "      <td>casual</td>\n",
       "    </tr>\n",
       "    <tr>\n",
       "      <th>4</th>\n",
       "      <td>72CC2218DF973489</td>\n",
       "      <td>electric_bike</td>\n",
       "      <td>2021-01-26 09:04:22</td>\n",
       "      <td>2021-01-26 09:11:36</td>\n",
       "      <td>NaN</td>\n",
       "      <td>NaN</td>\n",
       "      <td>NaN</td>\n",
       "      <td>NaN</td>\n",
       "      <td>37.790000</td>\n",
       "      <td>-122.410000</td>\n",
       "      <td>37.780000</td>\n",
       "      <td>-122.390000</td>\n",
       "      <td>casual</td>\n",
       "    </tr>\n",
       "    <tr>\n",
       "      <th>...</th>\n",
       "      <td>...</td>\n",
       "      <td>...</td>\n",
       "      <td>...</td>\n",
       "      <td>...</td>\n",
       "      <td>...</td>\n",
       "      <td>...</td>\n",
       "      <td>...</td>\n",
       "      <td>...</td>\n",
       "      <td>...</td>\n",
       "      <td>...</td>\n",
       "      <td>...</td>\n",
       "      <td>...</td>\n",
       "      <td>...</td>\n",
       "    </tr>\n",
       "    <tr>\n",
       "      <th>265758</th>\n",
       "      <td>BEDC5DBB3E11A190</td>\n",
       "      <td>classic_bike</td>\n",
       "      <td>2022-10-08 22:04:28</td>\n",
       "      <td>2022-10-08 22:10:47</td>\n",
       "      <td>Page St at Scott St</td>\n",
       "      <td>SF-K19</td>\n",
       "      <td>Dolores St at 15th St</td>\n",
       "      <td>SF-M21</td>\n",
       "      <td>37.772354</td>\n",
       "      <td>-122.435857</td>\n",
       "      <td>37.766100</td>\n",
       "      <td>-122.426659</td>\n",
       "      <td>casual</td>\n",
       "    </tr>\n",
       "    <tr>\n",
       "      <th>265759</th>\n",
       "      <td>013B77F17BA23727</td>\n",
       "      <td>electric_bike</td>\n",
       "      <td>2022-10-04 18:55:04</td>\n",
       "      <td>2022-10-04 19:00:19</td>\n",
       "      <td>Grant Ave at Sutter St</td>\n",
       "      <td>SF-F26-2</td>\n",
       "      <td>Polk St at Post St</td>\n",
       "      <td>SF-F23</td>\n",
       "      <td>37.789814</td>\n",
       "      <td>-122.405436</td>\n",
       "      <td>37.787002</td>\n",
       "      <td>-122.420053</td>\n",
       "      <td>member</td>\n",
       "    </tr>\n",
       "    <tr>\n",
       "      <th>265760</th>\n",
       "      <td>2F58153A791F8357</td>\n",
       "      <td>classic_bike</td>\n",
       "      <td>2022-10-28 07:58:12</td>\n",
       "      <td>2022-10-28 08:02:06</td>\n",
       "      <td>Scott St at California St</td>\n",
       "      <td>SF-F18</td>\n",
       "      <td>Post St at Webster St</td>\n",
       "      <td>SF-G20</td>\n",
       "      <td>37.788048</td>\n",
       "      <td>-122.438812</td>\n",
       "      <td>37.785360</td>\n",
       "      <td>-122.431802</td>\n",
       "      <td>member</td>\n",
       "    </tr>\n",
       "    <tr>\n",
       "      <th>265761</th>\n",
       "      <td>15E91EEE183E4269</td>\n",
       "      <td>electric_bike</td>\n",
       "      <td>2022-10-16 13:25:48</td>\n",
       "      <td>2022-10-16 14:06:35</td>\n",
       "      <td>1st St at Folsom St</td>\n",
       "      <td>SF-G29-2</td>\n",
       "      <td>7th Ave at Clement St</td>\n",
       "      <td>SF-G12</td>\n",
       "      <td>37.787076</td>\n",
       "      <td>-122.394597</td>\n",
       "      <td>37.782439</td>\n",
       "      <td>-122.465377</td>\n",
       "      <td>member</td>\n",
       "    </tr>\n",
       "    <tr>\n",
       "      <th>265762</th>\n",
       "      <td>1BBC4CA9D14C8338</td>\n",
       "      <td>electric_bike</td>\n",
       "      <td>2022-10-26 13:05:04</td>\n",
       "      <td>2022-10-26 13:10:48</td>\n",
       "      <td>1st St at Folsom St</td>\n",
       "      <td>SF-G29-2</td>\n",
       "      <td>Folsom St at Main St</td>\n",
       "      <td>SF-F30-3</td>\n",
       "      <td>37.787217</td>\n",
       "      <td>-122.394909</td>\n",
       "      <td>37.788991</td>\n",
       "      <td>-122.392255</td>\n",
       "      <td>member</td>\n",
       "    </tr>\n",
       "  </tbody>\n",
       "</table>\n",
       "<p>4319287 rows × 13 columns</p>\n",
       "</div>"
      ],
      "text/plain": [
       "                 ride_id  rideable_type           started_at  \\\n",
       "0       357CDE244D24405B  electric_bike  2021-01-26 11:32:59   \n",
       "1       19A3E1F4211D0EE8  electric_bike  2021-01-26 14:16:37   \n",
       "2       27004D90ADC81AFF  electric_bike  2021-01-26 14:02:37   \n",
       "3       2F81FCA3D9CD056A  electric_bike  2021-01-26 15:03:05   \n",
       "4       72CC2218DF973489  electric_bike  2021-01-26 09:04:22   \n",
       "...                  ...            ...                  ...   \n",
       "265758  BEDC5DBB3E11A190   classic_bike  2022-10-08 22:04:28   \n",
       "265759  013B77F17BA23727  electric_bike  2022-10-04 18:55:04   \n",
       "265760  2F58153A791F8357   classic_bike  2022-10-28 07:58:12   \n",
       "265761  15E91EEE183E4269  electric_bike  2022-10-16 13:25:48   \n",
       "265762  1BBC4CA9D14C8338  electric_bike  2022-10-26 13:05:04   \n",
       "\n",
       "                   ended_at         start_station_name start_station_id  \\\n",
       "0       2021-01-26 11:38:21                        NaN              NaN   \n",
       "1       2021-01-26 14:19:24                        NaN              NaN   \n",
       "2       2021-01-26 14:06:35                        NaN              NaN   \n",
       "3       2021-01-26 15:07:25                        NaN              NaN   \n",
       "4       2021-01-26 09:11:36                        NaN              NaN   \n",
       "...                     ...                        ...              ...   \n",
       "265758  2022-10-08 22:10:47        Page St at Scott St           SF-K19   \n",
       "265759  2022-10-04 19:00:19     Grant Ave at Sutter St         SF-F26-2   \n",
       "265760  2022-10-28 08:02:06  Scott St at California St           SF-F18   \n",
       "265761  2022-10-16 14:06:35        1st St at Folsom St         SF-G29-2   \n",
       "265762  2022-10-26 13:10:48        1st St at Folsom St         SF-G29-2   \n",
       "\n",
       "             end_station_name end_station_id  start_lat   start_lng  \\\n",
       "0                         NaN            NaN  37.760000 -122.410000   \n",
       "1                         NaN            NaN  37.770000 -122.410000   \n",
       "2                         NaN            NaN  37.760000 -122.420000   \n",
       "3                         NaN            NaN  37.760000 -122.410000   \n",
       "4                         NaN            NaN  37.790000 -122.410000   \n",
       "...                       ...            ...        ...         ...   \n",
       "265758  Dolores St at 15th St         SF-M21  37.772354 -122.435857   \n",
       "265759     Polk St at Post St         SF-F23  37.789814 -122.405436   \n",
       "265760  Post St at Webster St         SF-G20  37.788048 -122.438812   \n",
       "265761  7th Ave at Clement St         SF-G12  37.787076 -122.394597   \n",
       "265762   Folsom St at Main St       SF-F30-3  37.787217 -122.394909   \n",
       "\n",
       "          end_lat     end_lng member_casual  \n",
       "0       37.760000 -122.420000        casual  \n",
       "1       37.760000 -122.410000        casual  \n",
       "2       37.770000 -122.410000        casual  \n",
       "3       37.760000 -122.420000        casual  \n",
       "4       37.780000 -122.390000        casual  \n",
       "...           ...         ...           ...  \n",
       "265758  37.766100 -122.426659        casual  \n",
       "265759  37.787002 -122.420053        member  \n",
       "265760  37.785360 -122.431802        member  \n",
       "265761  37.782439 -122.465377        member  \n",
       "265762  37.788991 -122.392255        member  \n",
       "\n",
       "[4319287 rows x 13 columns]"
      ]
     },
     "metadata": {},
     "output_type": "display_data"
    }
   ],
   "source": [
    "# Displaying final_df\n",
    "display(final_df)"
   ]
  },
  {
   "cell_type": "code",
   "execution_count": 5,
   "id": "dd95757f",
   "metadata": {},
   "outputs": [
    {
     "data": {
      "text/html": [
       "<div>\n",
       "<style scoped>\n",
       "    .dataframe tbody tr th:only-of-type {\n",
       "        vertical-align: middle;\n",
       "    }\n",
       "\n",
       "    .dataframe tbody tr th {\n",
       "        vertical-align: top;\n",
       "    }\n",
       "\n",
       "    .dataframe thead th {\n",
       "        text-align: right;\n",
       "    }\n",
       "</style>\n",
       "<table border=\"1\" class=\"dataframe\">\n",
       "  <thead>\n",
       "    <tr style=\"text-align: right;\">\n",
       "      <th></th>\n",
       "      <th>start_lat</th>\n",
       "      <th>start_lng</th>\n",
       "      <th>end_lat</th>\n",
       "      <th>end_lng</th>\n",
       "    </tr>\n",
       "  </thead>\n",
       "  <tbody>\n",
       "    <tr>\n",
       "      <th>count</th>\n",
       "      <td>4.319287e+06</td>\n",
       "      <td>4.319287e+06</td>\n",
       "      <td>4.314287e+06</td>\n",
       "      <td>4.314287e+06</td>\n",
       "    </tr>\n",
       "    <tr>\n",
       "      <th>mean</th>\n",
       "      <td>3.775865e+01</td>\n",
       "      <td>-1.223839e+02</td>\n",
       "      <td>3.775876e+01</td>\n",
       "      <td>-1.223836e+02</td>\n",
       "    </tr>\n",
       "    <tr>\n",
       "      <th>std</th>\n",
       "      <td>9.911193e-02</td>\n",
       "      <td>1.203792e-01</td>\n",
       "      <td>1.023639e-01</td>\n",
       "      <td>1.462805e-01</td>\n",
       "    </tr>\n",
       "    <tr>\n",
       "      <th>min</th>\n",
       "      <td>3.723000e+01</td>\n",
       "      <td>-1.225113e+02</td>\n",
       "      <td>0.000000e+00</td>\n",
       "      <td>-1.225500e+02</td>\n",
       "    </tr>\n",
       "    <tr>\n",
       "      <th>25%</th>\n",
       "      <td>3.776543e+01</td>\n",
       "      <td>-1.224291e+02</td>\n",
       "      <td>3.776543e+01</td>\n",
       "      <td>-1.224270e+02</td>\n",
       "    </tr>\n",
       "    <tr>\n",
       "      <th>50%</th>\n",
       "      <td>3.777662e+01</td>\n",
       "      <td>-1.224117e+02</td>\n",
       "      <td>3.777662e+01</td>\n",
       "      <td>-1.224113e+02</td>\n",
       "    </tr>\n",
       "    <tr>\n",
       "      <th>75%</th>\n",
       "      <td>3.778991e+01</td>\n",
       "      <td>-1.223953e+02</td>\n",
       "      <td>3.779000e+01</td>\n",
       "      <td>-1.223953e+02</td>\n",
       "    </tr>\n",
       "    <tr>\n",
       "      <th>max</th>\n",
       "      <td>3.805000e+01</td>\n",
       "      <td>-1.217700e+02</td>\n",
       "      <td>3.805000e+01</td>\n",
       "      <td>0.000000e+00</td>\n",
       "    </tr>\n",
       "  </tbody>\n",
       "</table>\n",
       "</div>"
      ],
      "text/plain": [
       "          start_lat     start_lng       end_lat       end_lng\n",
       "count  4.319287e+06  4.319287e+06  4.314287e+06  4.314287e+06\n",
       "mean   3.775865e+01 -1.223839e+02  3.775876e+01 -1.223836e+02\n",
       "std    9.911193e-02  1.203792e-01  1.023639e-01  1.462805e-01\n",
       "min    3.723000e+01 -1.225113e+02  0.000000e+00 -1.225500e+02\n",
       "25%    3.776543e+01 -1.224291e+02  3.776543e+01 -1.224270e+02\n",
       "50%    3.777662e+01 -1.224117e+02  3.777662e+01 -1.224113e+02\n",
       "75%    3.778991e+01 -1.223953e+02  3.779000e+01 -1.223953e+02\n",
       "max    3.805000e+01 -1.217700e+02  3.805000e+01  0.000000e+00"
      ]
     },
     "execution_count": 5,
     "metadata": {},
     "output_type": "execute_result"
    }
   ],
   "source": [
    "final_df.describe()"
   ]
  },
  {
   "cell_type": "code",
   "execution_count": 6,
   "id": "b346ed67",
   "metadata": {},
   "outputs": [
    {
     "data": {
      "text/plain": [
       "ride_id                    0\n",
       "rideable_type              0\n",
       "started_at                 0\n",
       "ended_at                   0\n",
       "start_station_name    780814\n",
       "start_station_id      782357\n",
       "end_station_name      875982\n",
       "end_station_id        877552\n",
       "start_lat                  0\n",
       "start_lng                  0\n",
       "end_lat                 5000\n",
       "end_lng                 5000\n",
       "member_casual              0\n",
       "dtype: int64"
      ]
     },
     "execution_count": 6,
     "metadata": {},
     "output_type": "execute_result"
    }
   ],
   "source": [
    "final_df.isnull().sum()"
   ]
  },
  {
   "cell_type": "code",
   "execution_count": 7,
   "id": "310053bc",
   "metadata": {},
   "outputs": [
    {
     "data": {
      "text/html": [
       "<div>\n",
       "<style scoped>\n",
       "    .dataframe tbody tr th:only-of-type {\n",
       "        vertical-align: middle;\n",
       "    }\n",
       "\n",
       "    .dataframe tbody tr th {\n",
       "        vertical-align: top;\n",
       "    }\n",
       "\n",
       "    .dataframe thead th {\n",
       "        text-align: right;\n",
       "    }\n",
       "</style>\n",
       "<table border=\"1\" class=\"dataframe\">\n",
       "  <thead>\n",
       "    <tr style=\"text-align: right;\">\n",
       "      <th></th>\n",
       "      <th>ride_id</th>\n",
       "      <th>rideable_type</th>\n",
       "      <th>started_at</th>\n",
       "      <th>ended_at</th>\n",
       "      <th>start_station_name</th>\n",
       "      <th>start_station_id</th>\n",
       "      <th>end_station_name</th>\n",
       "      <th>end_station_id</th>\n",
       "      <th>start_lat</th>\n",
       "      <th>start_lng</th>\n",
       "      <th>end_lat</th>\n",
       "      <th>end_lng</th>\n",
       "      <th>member_casual</th>\n",
       "    </tr>\n",
       "  </thead>\n",
       "  <tbody>\n",
       "    <tr>\n",
       "      <th>19737</th>\n",
       "      <td>7DB0741F99540996</td>\n",
       "      <td>electric_bike</td>\n",
       "      <td>2021-06-01 17:33:17</td>\n",
       "      <td>2021-06-01 17:37:50</td>\n",
       "      <td>NaN</td>\n",
       "      <td>NaN</td>\n",
       "      <td>Berry St at 4th St</td>\n",
       "      <td>SF-K29-1</td>\n",
       "      <td>37.78</td>\n",
       "      <td>-122.39</td>\n",
       "      <td>NaN</td>\n",
       "      <td>NaN</td>\n",
       "      <td>casual</td>\n",
       "    </tr>\n",
       "    <tr>\n",
       "      <th>19740</th>\n",
       "      <td>78B95DCCEB6B9CD2</td>\n",
       "      <td>electric_bike</td>\n",
       "      <td>2021-06-01 17:35:28</td>\n",
       "      <td>2021-06-01 17:38:41</td>\n",
       "      <td>NaN</td>\n",
       "      <td>NaN</td>\n",
       "      <td>Berry St at 4th St</td>\n",
       "      <td>SF-K29-1</td>\n",
       "      <td>37.78</td>\n",
       "      <td>-122.39</td>\n",
       "      <td>NaN</td>\n",
       "      <td>NaN</td>\n",
       "      <td>casual</td>\n",
       "    </tr>\n",
       "    <tr>\n",
       "      <th>76302</th>\n",
       "      <td>32276054E213F149</td>\n",
       "      <td>electric_bike</td>\n",
       "      <td>2021-06-04 15:49:17</td>\n",
       "      <td>2021-06-04 15:51:42</td>\n",
       "      <td>NaN</td>\n",
       "      <td>NaN</td>\n",
       "      <td>4th St at Harrison St</td>\n",
       "      <td>SF-I28</td>\n",
       "      <td>37.78</td>\n",
       "      <td>-122.40</td>\n",
       "      <td>NaN</td>\n",
       "      <td>NaN</td>\n",
       "      <td>casual</td>\n",
       "    </tr>\n",
       "  </tbody>\n",
       "</table>\n",
       "</div>"
      ],
      "text/plain": [
       "                ride_id  rideable_type           started_at  \\\n",
       "19737  7DB0741F99540996  electric_bike  2021-06-01 17:33:17   \n",
       "19740  78B95DCCEB6B9CD2  electric_bike  2021-06-01 17:35:28   \n",
       "76302  32276054E213F149  electric_bike  2021-06-04 15:49:17   \n",
       "\n",
       "                  ended_at start_station_name start_station_id  \\\n",
       "19737  2021-06-01 17:37:50                NaN              NaN   \n",
       "19740  2021-06-01 17:38:41                NaN              NaN   \n",
       "76302  2021-06-04 15:51:42                NaN              NaN   \n",
       "\n",
       "            end_station_name end_station_id  start_lat  start_lng  end_lat  \\\n",
       "19737     Berry St at 4th St       SF-K29-1      37.78    -122.39      NaN   \n",
       "19740     Berry St at 4th St       SF-K29-1      37.78    -122.39      NaN   \n",
       "76302  4th St at Harrison St         SF-I28      37.78    -122.40      NaN   \n",
       "\n",
       "       end_lng member_casual  \n",
       "19737      NaN        casual  \n",
       "19740      NaN        casual  \n",
       "76302      NaN        casual  "
      ]
     },
     "execution_count": 7,
     "metadata": {},
     "output_type": "execute_result"
    }
   ],
   "source": [
    "# Looking for observations with null values in 'end_lat', 'end_lng' and 'end_station_name'\n",
    "final_df.loc[(final_df['end_lat'].isnull()) & (final_df['end_lng'].isnull()) & (final_df['end_station_name'].notnull())]"
   ]
  },
  {
   "cell_type": "code",
   "execution_count": 8,
   "id": "df8189c0",
   "metadata": {},
   "outputs": [],
   "source": [
    "# Dropping the necessary columns\n",
    "final_df = final_df.drop(['start_station_name', 'start_station_id', 'end_station_name', 'end_station_id'], axis=1)"
   ]
  },
  {
   "cell_type": "code",
   "execution_count": 9,
   "id": "e500b6cc",
   "metadata": {},
   "outputs": [
    {
     "data": {
      "text/html": [
       "<div>\n",
       "<style scoped>\n",
       "    .dataframe tbody tr th:only-of-type {\n",
       "        vertical-align: middle;\n",
       "    }\n",
       "\n",
       "    .dataframe tbody tr th {\n",
       "        vertical-align: top;\n",
       "    }\n",
       "\n",
       "    .dataframe thead th {\n",
       "        text-align: right;\n",
       "    }\n",
       "</style>\n",
       "<table border=\"1\" class=\"dataframe\">\n",
       "  <thead>\n",
       "    <tr style=\"text-align: right;\">\n",
       "      <th></th>\n",
       "      <th>ride_id</th>\n",
       "      <th>rideable_type</th>\n",
       "      <th>started_at</th>\n",
       "      <th>ended_at</th>\n",
       "      <th>start_lat</th>\n",
       "      <th>start_lng</th>\n",
       "      <th>end_lat</th>\n",
       "      <th>end_lng</th>\n",
       "      <th>member_casual</th>\n",
       "    </tr>\n",
       "  </thead>\n",
       "  <tbody>\n",
       "    <tr>\n",
       "      <th>0</th>\n",
       "      <td>357CDE244D24405B</td>\n",
       "      <td>electric_bike</td>\n",
       "      <td>2021-01-26 11:32:59</td>\n",
       "      <td>2021-01-26 11:38:21</td>\n",
       "      <td>37.76</td>\n",
       "      <td>-122.41</td>\n",
       "      <td>37.76</td>\n",
       "      <td>-122.42</td>\n",
       "      <td>casual</td>\n",
       "    </tr>\n",
       "    <tr>\n",
       "      <th>1</th>\n",
       "      <td>19A3E1F4211D0EE8</td>\n",
       "      <td>electric_bike</td>\n",
       "      <td>2021-01-26 14:16:37</td>\n",
       "      <td>2021-01-26 14:19:24</td>\n",
       "      <td>37.77</td>\n",
       "      <td>-122.41</td>\n",
       "      <td>37.76</td>\n",
       "      <td>-122.41</td>\n",
       "      <td>casual</td>\n",
       "    </tr>\n",
       "    <tr>\n",
       "      <th>2</th>\n",
       "      <td>27004D90ADC81AFF</td>\n",
       "      <td>electric_bike</td>\n",
       "      <td>2021-01-26 14:02:37</td>\n",
       "      <td>2021-01-26 14:06:35</td>\n",
       "      <td>37.76</td>\n",
       "      <td>-122.42</td>\n",
       "      <td>37.77</td>\n",
       "      <td>-122.41</td>\n",
       "      <td>casual</td>\n",
       "    </tr>\n",
       "    <tr>\n",
       "      <th>3</th>\n",
       "      <td>2F81FCA3D9CD056A</td>\n",
       "      <td>electric_bike</td>\n",
       "      <td>2021-01-26 15:03:05</td>\n",
       "      <td>2021-01-26 15:07:25</td>\n",
       "      <td>37.76</td>\n",
       "      <td>-122.41</td>\n",
       "      <td>37.76</td>\n",
       "      <td>-122.42</td>\n",
       "      <td>casual</td>\n",
       "    </tr>\n",
       "    <tr>\n",
       "      <th>4</th>\n",
       "      <td>72CC2218DF973489</td>\n",
       "      <td>electric_bike</td>\n",
       "      <td>2021-01-26 09:04:22</td>\n",
       "      <td>2021-01-26 09:11:36</td>\n",
       "      <td>37.79</td>\n",
       "      <td>-122.41</td>\n",
       "      <td>37.78</td>\n",
       "      <td>-122.39</td>\n",
       "      <td>casual</td>\n",
       "    </tr>\n",
       "  </tbody>\n",
       "</table>\n",
       "</div>"
      ],
      "text/plain": [
       "            ride_id  rideable_type           started_at             ended_at  \\\n",
       "0  357CDE244D24405B  electric_bike  2021-01-26 11:32:59  2021-01-26 11:38:21   \n",
       "1  19A3E1F4211D0EE8  electric_bike  2021-01-26 14:16:37  2021-01-26 14:19:24   \n",
       "2  27004D90ADC81AFF  electric_bike  2021-01-26 14:02:37  2021-01-26 14:06:35   \n",
       "3  2F81FCA3D9CD056A  electric_bike  2021-01-26 15:03:05  2021-01-26 15:07:25   \n",
       "4  72CC2218DF973489  electric_bike  2021-01-26 09:04:22  2021-01-26 09:11:36   \n",
       "\n",
       "   start_lat  start_lng  end_lat  end_lng member_casual  \n",
       "0      37.76    -122.41    37.76  -122.42        casual  \n",
       "1      37.77    -122.41    37.76  -122.41        casual  \n",
       "2      37.76    -122.42    37.77  -122.41        casual  \n",
       "3      37.76    -122.41    37.76  -122.42        casual  \n",
       "4      37.79    -122.41    37.78  -122.39        casual  "
      ]
     },
     "execution_count": 9,
     "metadata": {},
     "output_type": "execute_result"
    }
   ],
   "source": [
    "final_df.head()"
   ]
  },
  {
   "cell_type": "code",
   "execution_count": 10,
   "id": "cb3c1749",
   "metadata": {},
   "outputs": [],
   "source": [
    "# Dropping the null values observations in 'end_lat' and 'end_lng'\n",
    "final_df = final_df.dropna(subset=['end_lat', 'end_lng'])"
   ]
  },
  {
   "cell_type": "code",
   "execution_count": 11,
   "id": "4cdf1195",
   "metadata": {},
   "outputs": [
    {
     "data": {
      "text/html": [
       "<div>\n",
       "<style scoped>\n",
       "    .dataframe tbody tr th:only-of-type {\n",
       "        vertical-align: middle;\n",
       "    }\n",
       "\n",
       "    .dataframe tbody tr th {\n",
       "        vertical-align: top;\n",
       "    }\n",
       "\n",
       "    .dataframe thead th {\n",
       "        text-align: right;\n",
       "    }\n",
       "</style>\n",
       "<table border=\"1\" class=\"dataframe\">\n",
       "  <thead>\n",
       "    <tr style=\"text-align: right;\">\n",
       "      <th></th>\n",
       "      <th>ride_id</th>\n",
       "      <th>rideable_type</th>\n",
       "      <th>started_at</th>\n",
       "      <th>ended_at</th>\n",
       "      <th>start_lat</th>\n",
       "      <th>start_lng</th>\n",
       "      <th>end_lat</th>\n",
       "      <th>end_lng</th>\n",
       "      <th>member_casual</th>\n",
       "    </tr>\n",
       "  </thead>\n",
       "  <tbody>\n",
       "    <tr>\n",
       "      <th>0</th>\n",
       "      <td>357CDE244D24405B</td>\n",
       "      <td>electric_bike</td>\n",
       "      <td>2021-01-26 11:32:59</td>\n",
       "      <td>2021-01-26 11:38:21</td>\n",
       "      <td>37.76</td>\n",
       "      <td>-122.41</td>\n",
       "      <td>37.76</td>\n",
       "      <td>-122.42</td>\n",
       "      <td>casual</td>\n",
       "    </tr>\n",
       "    <tr>\n",
       "      <th>1</th>\n",
       "      <td>19A3E1F4211D0EE8</td>\n",
       "      <td>electric_bike</td>\n",
       "      <td>2021-01-26 14:16:37</td>\n",
       "      <td>2021-01-26 14:19:24</td>\n",
       "      <td>37.77</td>\n",
       "      <td>-122.41</td>\n",
       "      <td>37.76</td>\n",
       "      <td>-122.41</td>\n",
       "      <td>casual</td>\n",
       "    </tr>\n",
       "    <tr>\n",
       "      <th>2</th>\n",
       "      <td>27004D90ADC81AFF</td>\n",
       "      <td>electric_bike</td>\n",
       "      <td>2021-01-26 14:02:37</td>\n",
       "      <td>2021-01-26 14:06:35</td>\n",
       "      <td>37.76</td>\n",
       "      <td>-122.42</td>\n",
       "      <td>37.77</td>\n",
       "      <td>-122.41</td>\n",
       "      <td>casual</td>\n",
       "    </tr>\n",
       "    <tr>\n",
       "      <th>3</th>\n",
       "      <td>2F81FCA3D9CD056A</td>\n",
       "      <td>electric_bike</td>\n",
       "      <td>2021-01-26 15:03:05</td>\n",
       "      <td>2021-01-26 15:07:25</td>\n",
       "      <td>37.76</td>\n",
       "      <td>-122.41</td>\n",
       "      <td>37.76</td>\n",
       "      <td>-122.42</td>\n",
       "      <td>casual</td>\n",
       "    </tr>\n",
       "    <tr>\n",
       "      <th>4</th>\n",
       "      <td>72CC2218DF973489</td>\n",
       "      <td>electric_bike</td>\n",
       "      <td>2021-01-26 09:04:22</td>\n",
       "      <td>2021-01-26 09:11:36</td>\n",
       "      <td>37.79</td>\n",
       "      <td>-122.41</td>\n",
       "      <td>37.78</td>\n",
       "      <td>-122.39</td>\n",
       "      <td>casual</td>\n",
       "    </tr>\n",
       "  </tbody>\n",
       "</table>\n",
       "</div>"
      ],
      "text/plain": [
       "            ride_id  rideable_type           started_at             ended_at  \\\n",
       "0  357CDE244D24405B  electric_bike  2021-01-26 11:32:59  2021-01-26 11:38:21   \n",
       "1  19A3E1F4211D0EE8  electric_bike  2021-01-26 14:16:37  2021-01-26 14:19:24   \n",
       "2  27004D90ADC81AFF  electric_bike  2021-01-26 14:02:37  2021-01-26 14:06:35   \n",
       "3  2F81FCA3D9CD056A  electric_bike  2021-01-26 15:03:05  2021-01-26 15:07:25   \n",
       "4  72CC2218DF973489  electric_bike  2021-01-26 09:04:22  2021-01-26 09:11:36   \n",
       "\n",
       "   start_lat  start_lng  end_lat  end_lng member_casual  \n",
       "0      37.76    -122.41    37.76  -122.42        casual  \n",
       "1      37.77    -122.41    37.76  -122.41        casual  \n",
       "2      37.76    -122.42    37.77  -122.41        casual  \n",
       "3      37.76    -122.41    37.76  -122.42        casual  \n",
       "4      37.79    -122.41    37.78  -122.39        casual  "
      ]
     },
     "execution_count": 11,
     "metadata": {},
     "output_type": "execute_result"
    }
   ],
   "source": [
    "final_df.head()"
   ]
  },
  {
   "cell_type": "code",
   "execution_count": 12,
   "id": "7acb9977",
   "metadata": {},
   "outputs": [
    {
     "name": "stdout",
     "output_type": "stream",
     "text": [
      "<class 'pandas.core.frame.DataFrame'>\n",
      "Int64Index: 4314287 entries, 0 to 265762\n",
      "Data columns (total 9 columns):\n",
      " #   Column         Dtype  \n",
      "---  ------         -----  \n",
      " 0   ride_id        object \n",
      " 1   rideable_type  object \n",
      " 2   started_at     object \n",
      " 3   ended_at       object \n",
      " 4   start_lat      float64\n",
      " 5   start_lng      float64\n",
      " 6   end_lat        float64\n",
      " 7   end_lng        float64\n",
      " 8   member_casual  object \n",
      "dtypes: float64(4), object(5)\n",
      "memory usage: 329.2+ MB\n"
     ]
    }
   ],
   "source": [
    "final_df.info()"
   ]
  },
  {
   "cell_type": "code",
   "execution_count": 13,
   "id": "b687c1c9",
   "metadata": {},
   "outputs": [
    {
     "data": {
      "text/plain": [
       "(4314287, 9)"
      ]
     },
     "execution_count": 13,
     "metadata": {},
     "output_type": "execute_result"
    }
   ],
   "source": [
    "# Dataframe consists of 4319287 rows × 9 columns\n",
    "final_df.shape"
   ]
  },
  {
   "cell_type": "code",
   "execution_count": 14,
   "id": "ffeb69f7",
   "metadata": {},
   "outputs": [],
   "source": [
    "# Converting 'started_at' and 'ended_at' into datetime objects \n",
    "final_df['started_at'] = pd.to_datetime(final_df['started_at'])\n",
    "final_df['ended_at'] = pd.to_datetime(final_df['ended_at'])"
   ]
  },
  {
   "cell_type": "code",
   "execution_count": 15,
   "id": "806697b1",
   "metadata": {},
   "outputs": [],
   "source": [
    "# Getting year, month, day and dayofweek from the 'started_at' column\n",
    "final_df['start_year'] = final_df['started_at'].dt.year\n",
    "final_df['start_month'] = final_df['started_at'].dt.month\n",
    "final_df['start_day'] = final_df['started_at'].dt.day\n",
    "final_df['Start_DOW'] = final_df['started_at'].dt.dayofweek"
   ]
  },
  {
   "cell_type": "code",
   "execution_count": 16,
   "id": "5b9c4061",
   "metadata": {},
   "outputs": [],
   "source": [
    "# Calculating time differnce \n",
    "final_df['Time_diff'] = final_df['ended_at'] - final_df['started_at']"
   ]
  },
  {
   "cell_type": "code",
   "execution_count": 17,
   "id": "02110986",
   "metadata": {},
   "outputs": [],
   "source": [
    "# Changing the time difference to minutes \n",
    "final_df['Time_diff_mins'] = final_df['Time_diff'].dt.total_seconds()/60"
   ]
  },
  {
   "cell_type": "code",
   "execution_count": 18,
   "id": "68663d21",
   "metadata": {},
   "outputs": [],
   "source": [
    "#Converting the month values to month names \n",
    "final_df['start_month'] = final_df['start_month'].apply(lambda x: calendar.month_abbr[x])"
   ]
  },
  {
   "cell_type": "code",
   "execution_count": 19,
   "id": "a87115f5",
   "metadata": {},
   "outputs": [],
   "source": [
    "final_df=final_df.sort_values(by='start_month', ascending=False)"
   ]
  },
  {
   "cell_type": "code",
   "execution_count": 20,
   "id": "68da987d",
   "metadata": {},
   "outputs": [
    {
     "data": {
      "text/plain": [
       "0"
      ]
     },
     "execution_count": 20,
     "metadata": {},
     "output_type": "execute_result"
    }
   ],
   "source": [
    "final_df['end_lng'].isnull().sum()"
   ]
  },
  {
   "cell_type": "code",
   "execution_count": 21,
   "id": "f51810b7",
   "metadata": {},
   "outputs": [
    {
     "data": {
      "text/plain": [
       "array(['classic_bike', 'electric_bike', 'docked_bike'], dtype=object)"
      ]
     },
     "execution_count": 21,
     "metadata": {},
     "output_type": "execute_result"
    }
   ],
   "source": [
    "final_df['rideable_type'].unique()"
   ]
  },
  {
   "cell_type": "code",
   "execution_count": 24,
   "id": "2d3f1fbf",
   "metadata": {},
   "outputs": [
    {
     "data": {
      "text/plain": [
       "<matplotlib.axes._subplots.AxesSubplot at 0x24780c35b08>"
      ]
     },
     "execution_count": 24,
     "metadata": {},
     "output_type": "execute_result"
    },
    {
     "data": {
      "image/png": "[encoded data removed]",
      "text/plain": [
       "<Figure size 640x480 with 1 Axes>"
      ]
     },
     "metadata": {},
     "output_type": "display_data"
    }
   ],
   "source": [
    "sns.countplot(x=final_df['rideable_type'])"
   ]
  },
  {
   "cell_type": "code",
   "execution_count": 25,
   "id": "4c87b338",
   "metadata": {},
   "outputs": [
    {
     "data": {
      "text/plain": [
       "array(['casual', 'member'], dtype=object)"
      ]
     },
     "execution_count": 25,
     "metadata": {},
     "output_type": "execute_result"
    }
   ],
   "source": [
    "final_df['member_casual'].unique()"
   ]
  },
  {
   "cell_type": "code",
   "execution_count": 26,
   "id": "663348a4",
   "metadata": {},
   "outputs": [
    {
     "data": {
      "text/plain": [
       "<matplotlib.axes._subplots.AxesSubplot at 0x24781e55908>"
      ]
     },
     "execution_count": 26,
     "metadata": {},
     "output_type": "execute_result"
    },
    {
     "data": {
      "image/png": "[encoded data removed]",
      "text/plain": [
       "<Figure size 640x480 with 1 Axes>"
      ]
     },
     "metadata": {},
     "output_type": "display_data"
    }
   ],
   "source": [
    "sns.countplot(x=final_df['member_casual'])"
   ]
  },
  {
   "cell_type": "code",
   "execution_count": 28,
   "id": "abce4129",
   "metadata": {},
   "outputs": [
    {
     "data": {
      "text/plain": [
       "array([[<matplotlib.axes._subplots.AxesSubplot object at 0x0000024781D8EE88>,\n",
       "        <matplotlib.axes._subplots.AxesSubplot object at 0x0000024781DCCE48>],\n",
       "       [<matplotlib.axes._subplots.AxesSubplot object at 0x0000024781E06848>,\n",
       "        <matplotlib.axes._subplots.AxesSubplot object at 0x0000024781E81688>]],\n",
       "      dtype=object)"
      ]
     },
     "execution_count": 28,
     "metadata": {},
     "output_type": "execute_result"
    },
    {
     "data": {
      "image/png": "[encoded data removed]",
      "text/plain": [
       "<Figure size 1500x1000 with 4 Axes>"
      ]
     },
     "metadata": {},
     "output_type": "display_data"
    }
   ],
   "source": [
    "final_df[['start_lat','start_lng', 'end_lat', 'end_lng']].hist(figsize=(15, 10))"
   ]
  },
  {
   "cell_type": "code",
   "execution_count": 30,
   "id": "64bd3f15",
   "metadata": {},
   "outputs": [
    {
     "data": {
      "text/plain": [
       "<matplotlib.axes._subplots.AxesSubplot at 0x24781feaac8>"
      ]
     },
     "execution_count": 30,
     "metadata": {},
     "output_type": "execute_result"
    },
    {
     "data": {
      "image/png": "[encoded data removed]",
      "text/plain": [
       "<Figure size 640x480 with 1 Axes>"
      ]
     },
     "metadata": {},
     "output_type": "display_data"
    }
   ],
   "source": [
    "sns.countplot(data=final_df, x='rideable_type', hue='member_casual')"
   ]
  },
  {
   "cell_type": "code",
   "execution_count": 31,
   "id": "cfccb3b9",
   "metadata": {},
   "outputs": [],
   "source": [
    "small_data=final_df.sample(n = 50000)"
   ]
  },
  {
   "cell_type": "code",
   "execution_count": 32,
   "id": "d8f06c03",
   "metadata": {},
   "outputs": [
    {
     "data": {
      "text/html": [
       "<div>\n",
       "<style scoped>\n",
       "    .dataframe tbody tr th:only-of-type {\n",
       "        vertical-align: middle;\n",
       "    }\n",
       "\n",
       "    .dataframe tbody tr th {\n",
       "        vertical-align: top;\n",
       "    }\n",
       "\n",
       "    .dataframe thead th {\n",
       "        text-align: right;\n",
       "    }\n",
       "</style>\n",
       "<table border=\"1\" class=\"dataframe\">\n",
       "  <thead>\n",
       "    <tr style=\"text-align: right;\">\n",
       "      <th></th>\n",
       "      <th>ride_id</th>\n",
       "      <th>rideable_type</th>\n",
       "      <th>started_at</th>\n",
       "      <th>ended_at</th>\n",
       "      <th>start_lat</th>\n",
       "      <th>start_lng</th>\n",
       "      <th>end_lat</th>\n",
       "      <th>end_lng</th>\n",
       "      <th>member_casual</th>\n",
       "      <th>start_year</th>\n",
       "      <th>start_month</th>\n",
       "      <th>start_day</th>\n",
       "      <th>Start_DOW</th>\n",
       "      <th>Time_diff</th>\n",
       "      <th>Time_diff_mins</th>\n",
       "    </tr>\n",
       "  </thead>\n",
       "  <tbody>\n",
       "    <tr>\n",
       "      <th>56734</th>\n",
       "      <td>5516EF2D8D570D64</td>\n",
       "      <td>classic_bike</td>\n",
       "      <td>2022-09-02 08:55:26</td>\n",
       "      <td>2022-09-02 09:00:59</td>\n",
       "      <td>37.777053</td>\n",
       "      <td>-122.429558</td>\n",
       "      <td>37.778799</td>\n",
       "      <td>-122.415963</td>\n",
       "      <td>casual</td>\n",
       "      <td>2022</td>\n",
       "      <td>Sep</td>\n",
       "      <td>2</td>\n",
       "      <td>4</td>\n",
       "      <td>0 days 00:05:33</td>\n",
       "      <td>5.550000</td>\n",
       "    </tr>\n",
       "    <tr>\n",
       "      <th>69122</th>\n",
       "      <td>14990A615AC2629B</td>\n",
       "      <td>electric_bike</td>\n",
       "      <td>2021-11-13 17:30:02</td>\n",
       "      <td>2021-11-13 17:44:19</td>\n",
       "      <td>37.795448</td>\n",
       "      <td>-122.404864</td>\n",
       "      <td>37.786189</td>\n",
       "      <td>-122.405471</td>\n",
       "      <td>member</td>\n",
       "      <td>2021</td>\n",
       "      <td>Nov</td>\n",
       "      <td>13</td>\n",
       "      <td>5</td>\n",
       "      <td>0 days 00:14:17</td>\n",
       "      <td>14.283333</td>\n",
       "    </tr>\n",
       "    <tr>\n",
       "      <th>144841</th>\n",
       "      <td>E96AA8B917E5ACF7</td>\n",
       "      <td>electric_bike</td>\n",
       "      <td>2022-08-14 13:40:23</td>\n",
       "      <td>2022-08-14 13:54:03</td>\n",
       "      <td>37.776319</td>\n",
       "      <td>-122.426248</td>\n",
       "      <td>37.800287</td>\n",
       "      <td>-122.425786</td>\n",
       "      <td>member</td>\n",
       "      <td>2022</td>\n",
       "      <td>Aug</td>\n",
       "      <td>14</td>\n",
       "      <td>6</td>\n",
       "      <td>0 days 00:13:40</td>\n",
       "      <td>13.666667</td>\n",
       "    </tr>\n",
       "    <tr>\n",
       "      <th>26691</th>\n",
       "      <td>170075E556A95593</td>\n",
       "      <td>classic_bike</td>\n",
       "      <td>2022-04-12 16:44:52</td>\n",
       "      <td>2022-04-12 16:48:48</td>\n",
       "      <td>37.783521</td>\n",
       "      <td>-122.431158</td>\n",
       "      <td>37.777053</td>\n",
       "      <td>-122.429558</td>\n",
       "      <td>member</td>\n",
       "      <td>2022</td>\n",
       "      <td>Apr</td>\n",
       "      <td>12</td>\n",
       "      <td>1</td>\n",
       "      <td>0 days 00:03:56</td>\n",
       "      <td>3.933333</td>\n",
       "    </tr>\n",
       "    <tr>\n",
       "      <th>104974</th>\n",
       "      <td>D9642801EACEBE09</td>\n",
       "      <td>electric_bike</td>\n",
       "      <td>2021-03-07 14:11:07</td>\n",
       "      <td>2021-03-07 14:35:53</td>\n",
       "      <td>37.771931</td>\n",
       "      <td>-122.453696</td>\n",
       "      <td>37.776487</td>\n",
       "      <td>-122.408199</td>\n",
       "      <td>member</td>\n",
       "      <td>2021</td>\n",
       "      <td>Mar</td>\n",
       "      <td>7</td>\n",
       "      <td>6</td>\n",
       "      <td>0 days 00:24:46</td>\n",
       "      <td>24.766667</td>\n",
       "    </tr>\n",
       "  </tbody>\n",
       "</table>\n",
       "</div>"
      ],
      "text/plain": [
       "                 ride_id  rideable_type          started_at  \\\n",
       "56734   5516EF2D8D570D64   classic_bike 2022-09-02 08:55:26   \n",
       "69122   14990A615AC2629B  electric_bike 2021-11-13 17:30:02   \n",
       "144841  E96AA8B917E5ACF7  electric_bike 2022-08-14 13:40:23   \n",
       "26691   170075E556A95593   classic_bike 2022-04-12 16:44:52   \n",
       "104974  D9642801EACEBE09  electric_bike 2021-03-07 14:11:07   \n",
       "\n",
       "                  ended_at  start_lat   start_lng    end_lat     end_lng  \\\n",
       "56734  2022-09-02 09:00:59  37.777053 -122.429558  37.778799 -122.415963   \n",
       "69122  2021-11-13 17:44:19  37.795448 -122.404864  37.786189 -122.405471   \n",
       "144841 2022-08-14 13:54:03  37.776319 -122.426248  37.800287 -122.425786   \n",
       "26691  2022-04-12 16:48:48  37.783521 -122.431158  37.777053 -122.429558   \n",
       "104974 2021-03-07 14:35:53  37.771931 -122.453696  37.776487 -122.408199   \n",
       "\n",
       "       member_casual  start_year start_month  start_day  Start_DOW  \\\n",
       "56734         casual        2022         Sep          2          4   \n",
       "69122         member        2021         Nov         13          5   \n",
       "144841        member        2022         Aug         14          6   \n",
       "26691         member        2022         Apr         12          1   \n",
       "104974        member        2021         Mar          7          6   \n",
       "\n",
       "             Time_diff  Time_diff_mins  \n",
       "56734  0 days 00:05:33        5.550000  \n",
       "69122  0 days 00:14:17       14.283333  \n",
       "144841 0 days 00:13:40       13.666667  \n",
       "26691  0 days 00:03:56        3.933333  \n",
       "104974 0 days 00:24:46       24.766667  "
      ]
     },
     "execution_count": 32,
     "metadata": {},
     "output_type": "execute_result"
    }
   ],
   "source": [
    "small_data.head()"
   ]
  },
  {
   "cell_type": "code",
   "execution_count": 34,
   "id": "dc052bd1",
   "metadata": {},
   "outputs": [
    {
     "name": "stdout",
     "output_type": "stream",
     "text": [
      "<class 'pandas.core.frame.DataFrame'>\n",
      "Int64Index: 50000 entries, 56734 to 204228\n",
      "Data columns (total 15 columns):\n",
      " #   Column          Non-Null Count  Dtype          \n",
      "---  ------          --------------  -----          \n",
      " 0   ride_id         50000 non-null  object         \n",
      " 1   rideable_type   50000 non-null  object         \n",
      " 2   started_at      50000 non-null  datetime64[ns] \n",
      " 3   ended_at        50000 non-null  datetime64[ns] \n",
      " 4   start_lat       50000 non-null  float64        \n",
      " 5   start_lng       50000 non-null  float64        \n",
      " 6   end_lat         50000 non-null  float64        \n",
      " 7   end_lng         50000 non-null  float64        \n",
      " 8   member_casual   50000 non-null  object         \n",
      " 9   start_year      50000 non-null  int64          \n",
      " 10  start_month     50000 non-null  object         \n",
      " 11  start_day       50000 non-null  int64          \n",
      " 12  Start_DOW       50000 non-null  int64          \n",
      " 13  Time_diff       50000 non-null  timedelta64[ns]\n",
      " 14  Time_diff_mins  50000 non-null  float64        \n",
      "dtypes: datetime64[ns](2), float64(5), int64(3), object(4), timedelta64[ns](1)\n",
      "memory usage: 6.1+ MB\n"
     ]
    }
   ],
   "source": [
    "small_data.info()"
   ]
  },
  {
   "cell_type": "code",
   "execution_count": 35,
   "id": "b9650eef",
   "metadata": {},
   "outputs": [],
   "source": [
    "small_data.to_csv(\"small_data.csv\")"
   ]
  },
  {
   "cell_type": "code",
   "execution_count": null,
   "id": "d6f5a353",
   "metadata": {},
   "outputs": [],
   "source": []
  }
 ],
 "metadata": {
  "kernelspec": {
   "display_name": "Python 3 (ipykernel)",
   "language": "python",
   "name": "python3"
  },
  "language_info": {
   "codemirror_mode": {
    "name": "ipython",
    "version": 3
   },
   "file_extension": ".py",
   "mimetype": "text/x-python",
   "name": "python",
   "nbconvert_exporter": "python",
   "pygments_lexer": "ipython3",
   "version": "3.7.12"
  }
 },
 "nbformat": 4,
 "nbformat_minor": 5
}
