{
 "cells": [
  {
   "cell_type": "code",
   "execution_count": 1,
   "id": "19bb270d",
   "metadata": {},
   "outputs": [],
   "source": [
    "import altair as alt"
   ]
  },
  {
   "cell_type": "code",
   "execution_count": 2,
   "id": "1dc42062",
   "metadata": {},
   "outputs": [],
   "source": [
    "alt.Chart.from_dict?"
   ]
  },
  {
   "cell_type": "code",
   "execution_count": 16,
   "id": "79e1a2c7",
   "metadata": {},
   "outputs": [],
   "source": [
    "url=\"https://media.githubusercontent.com/media/kmadhura08/kmadhura08.github.io/main/python_notebooks/small_data.csv\""
   ]
  },
  {
   "cell_type": "code",
   "execution_count": 3,
   "id": "e599694a",
   "metadata": {},
   "outputs": [],
   "source": [
    "chart1 = alt.Chart.from_dict(\n",
    "{ 'data': {\"url\": \"https://media.githubusercontent.com/media/kmadhura08/kmadhura08.github.io/main/python_notebooks/small_data.csv\"},\n",
    "  'width' : 350,\n",
    "  'height' : 350,\n",
    "  'title': \"Rides per bike-type VS Year\",\n",
    "  'mark': {\"type\":\"bar\"},\n",
    "  'encoding': {\n",
    "    \"y\": {\"aggregate\": \"count\", \"field\": \"member_casual\", \"type\": \"quantitative\", \"title\": \"Number of Rides\"},\n",
    "    \"x\": {\"field\": \"rideable_type\", \"type\": \"nominal\", \"title\":\"Bike Type\"},\n",
    "    \"color\": {\"field\":\"start_year\", \"type\":\"nominal\"},\n",
    "    \"tooltip\": [\n",
    "      {\"field\": \"rideable_type\", \"type\": \"nominal\", \"title\": \"Bike-type\"},\n",
    "      {\"field\": \"start_year\", \"type\": \"quantitative\", \"title\":\"Year\"},\n",
    "      {\"aggregate\": \"count\", \"field\": \"member_casual\", \"type\": \"quantitative\", \"title\": \"Number of Rides\"}\n",
    "    ]}\n",
    "  \n",
    "}).interactive()\n",
    "\n"
   ]
  },
  {
   "cell_type": "code",
   "execution_count": 4,
   "id": "16b4f8f6",
   "metadata": {},
   "outputs": [
    {
     "data": {
      "text/html": [
       "\n",
       "<div id=\"altair-viz-2a3921e206b645768e6c9db61257b6f8\"></div>\n",
       "<script type=\"text/javascript\">\n",
       "  var VEGA_DEBUG = (typeof VEGA_DEBUG == \"undefined\") ? {} : VEGA_DEBUG;\n",
       "  (function(spec, embedOpt){\n",
       "    let outputDiv = document.currentScript.previousElementSibling;\n",
       "    if (outputDiv.id !== \"altair-viz-2a3921e206b645768e6c9db61257b6f8\") {\n",
       "      outputDiv = document.getElementById(\"altair-viz-2a3921e206b645768e6c9db61257b6f8\");\n",
       "    }\n",
       "    const paths = {\n",
       "      \"vega\": \"https://cdn.jsdelivr.net/npm//vega@5?noext\",\n",
       "      \"vega-lib\": \"https://cdn.jsdelivr.net/npm//vega-lib?noext\",\n",
       "      \"vega-lite\": \"https://cdn.jsdelivr.net/npm//vega-lite@4.17.0?noext\",\n",
       "      \"vega-embed\": \"https://cdn.jsdelivr.net/npm//vega-embed@6?noext\",\n",
       "    };\n",
       "\n",
       "    function maybeLoadScript(lib, version) {\n",
       "      var key = `${lib.replace(\"-\", \"\")}_version`;\n",
       "      return (VEGA_DEBUG[key] == version) ?\n",
       "        Promise.resolve(paths[lib]) :\n",
       "        new Promise(function(resolve, reject) {\n",
       "          var s = document.createElement('script');\n",
       "          document.getElementsByTagName(\"head\")[0].appendChild(s);\n",
       "          s.async = true;\n",
       "          s.onload = () => {\n",
       "            VEGA_DEBUG[key] = version;\n",
       "            return resolve(paths[lib]);\n",
       "          };\n",
       "          s.onerror = () => reject(`Error loading script: ${paths[lib]}`);\n",
       "          s.src = paths[lib];\n",
       "        });\n",
       "    }\n",
       "\n",
       "    function showError(err) {\n",
       "      outputDiv.innerHTML = `<div class=\"error\" style=\"color:red;\">${err}</div>`;\n",
       "      throw err;\n",
       "    }\n",
       "\n",
       "    function displayChart(vegaEmbed) {\n",
       "      vegaEmbed(outputDiv, spec, embedOpt)\n",
       "        .catch(err => showError(`Javascript Error: ${err.message}<br>This usually means there's a typo in your chart specification. See the javascript console for the full traceback.`));\n",
       "    }\n",
       "\n",
       "    if(typeof define === \"function\" && define.amd) {\n",
       "      requirejs.config({paths});\n",
       "      require([\"vega-embed\"], displayChart, err => showError(`Error loading script: ${err.message}`));\n",
       "    } else {\n",
       "      maybeLoadScript(\"vega\", \"5\")\n",
       "        .then(() => maybeLoadScript(\"vega-lite\", \"4.17.0\"))\n",
       "        .then(() => maybeLoadScript(\"vega-embed\", \"6\"))\n",
       "        .catch(showError)\n",
       "        .then(() => displayChart(vegaEmbed));\n",
       "    }\n",
       "  })({\"config\": {\"view\": {\"continuousWidth\": 400, \"continuousHeight\": 300}}, \"data\": {\"url\": \"https://media.githubusercontent.com/media/kmadhura08/kmadhura08.github.io/main/python_notebooks/small_data.csv\"}, \"mark\": {\"type\": \"bar\"}, \"encoding\": {\"color\": {\"field\": \"start_year\", \"type\": \"nominal\"}, \"tooltip\": [{\"field\": \"rideable_type\", \"title\": \"Bike-type\", \"type\": \"nominal\"}, {\"field\": \"start_year\", \"title\": \"Year\", \"type\": \"quantitative\"}, {\"aggregate\": \"count\", \"field\": \"member_casual\", \"title\": \"Number of Rides\", \"type\": \"quantitative\"}], \"x\": {\"field\": \"rideable_type\", \"title\": \"Bike Type\", \"type\": \"nominal\"}, \"y\": {\"aggregate\": \"count\", \"field\": \"member_casual\", \"title\": \"Number of Rides\", \"type\": \"quantitative\"}}, \"height\": 350, \"selection\": {\"selector001\": {\"type\": \"interval\", \"bind\": \"scales\", \"encodings\": [\"x\", \"y\"]}}, \"title\": \"Rides per bike-type VS Year\", \"width\": 350, \"$schema\": \"https://vega.github.io/schema/vega-lite/v4.17.0.json\"}, {\"mode\": \"vega-lite\"});\n",
       "</script>"
      ],
      "text/plain": [
       "alt.Chart(...)"
      ]
     },
     "execution_count": 4,
     "metadata": {},
     "output_type": "execute_result"
    }
   ],
   "source": [
    "chart1"
   ]
  },
  {
   "cell_type": "code",
   "execution_count": 5,
   "id": "4fbdb8ea",
   "metadata": {},
   "outputs": [],
   "source": [
    "myJekyllDir = r'C:\\Users\\PC\\kmadhura08.github.io\\assets\\json\\json'\n",
    "https://github.com/kmadhura08/kmadhura08.github.io/tree/main/assets/json\n",
    "    C:\\Users\\PC\\kmadhura08.github.io\\assets"
   ]
  },
  {
   "cell_type": "code",
   "execution_count": 21,
   "id": "b0a5ceff",
   "metadata": {},
   "outputs": [],
   "source": [
    "chart1.properties(width='container').save(myJekyllDir+'ride_year.json')"
   ]
  },
  {
   "cell_type": "code",
   "execution_count": 13,
   "id": "54d1de32",
   "metadata": {},
   "outputs": [],
   "source": [
    "chart2 = alt.Chart.from_dict(\n",
    "{ 'data': {\"url\": \"https://media.githubusercontent.com/media/kmadhura08/kmadhura08.github.io/main/python_notebooks/small_data.csv\"},\n",
    "  'width' : 350,\n",
    "  'height' : 350,\n",
    "  'title': \"Number of Rides by Month\",\n",
    "  'mark': {\"type\":\"bar\"},\n",
    "  'encoding': {\n",
    "    \"y\": {\"aggregate\": \"count\", \"field\": \"member_casual\", \"type\": \"quantitative\", \"title\": \"Number of Rides\"},\n",
    "    \"x\": {\"field\": \"start_month\", \"type\": \"nominal\", \"title\":\"Bike Type\"},\n",
    "    \"color\": {\"field\":\"rideable_type\", \"type\":\"nominal\"},\n",
    "    \"tooltip\": [\n",
    "      {\"field\": \"rideable_type\", \"type\": \"nominal\", \"title\": \"Bike-type\"},\n",
    "      {\"field\": \"start_month\", \"type\": \"nominal\", \"title\":\"Month\"},\n",
    "      {\"aggregate\": \"count\", \"field\": \"member_casual\", \"type\": \"quantitative\", \"title\": \"Number of Rides\"}\n",
    "    ]}\n",
    "  \n",
    "}).interactive()\n",
    "\n"
   ]
  },
  {
   "cell_type": "code",
   "execution_count": 14,
   "id": "bbe580af",
   "metadata": {},
   "outputs": [
    {
     "data": {
      "text/html": [
       "\n",
       "<div id=\"altair-viz-45abe56d2cb64e9fb7d3bfd3fccfea31\"></div>\n",
       "<script type=\"text/javascript\">\n",
       "  var VEGA_DEBUG = (typeof VEGA_DEBUG == \"undefined\") ? {} : VEGA_DEBUG;\n",
       "  (function(spec, embedOpt){\n",
       "    let outputDiv = document.currentScript.previousElementSibling;\n",
       "    if (outputDiv.id !== \"altair-viz-45abe56d2cb64e9fb7d3bfd3fccfea31\") {\n",
       "      outputDiv = document.getElementById(\"altair-viz-45abe56d2cb64e9fb7d3bfd3fccfea31\");\n",
       "    }\n",
       "    const paths = {\n",
       "      \"vega\": \"https://cdn.jsdelivr.net/npm//vega@5?noext\",\n",
       "      \"vega-lib\": \"https://cdn.jsdelivr.net/npm//vega-lib?noext\",\n",
       "      \"vega-lite\": \"https://cdn.jsdelivr.net/npm//vega-lite@4.17.0?noext\",\n",
       "      \"vega-embed\": \"https://cdn.jsdelivr.net/npm//vega-embed@6?noext\",\n",
       "    };\n",
       "\n",
       "    function maybeLoadScript(lib, version) {\n",
       "      var key = `${lib.replace(\"-\", \"\")}_version`;\n",
       "      return (VEGA_DEBUG[key] == version) ?\n",
       "        Promise.resolve(paths[lib]) :\n",
       "        new Promise(function(resolve, reject) {\n",
       "          var s = document.createElement('script');\n",
       "          document.getElementsByTagName(\"head\")[0].appendChild(s);\n",
       "          s.async = true;\n",
       "          s.onload = () => {\n",
       "            VEGA_DEBUG[key] = version;\n",
       "            return resolve(paths[lib]);\n",
       "          };\n",
       "          s.onerror = () => reject(`Error loading script: ${paths[lib]}`);\n",
       "          s.src = paths[lib];\n",
       "        });\n",
       "    }\n",
       "\n",
       "    function showError(err) {\n",
       "      outputDiv.innerHTML = `<div class=\"error\" style=\"color:red;\">${err}</div>`;\n",
       "      throw err;\n",
       "    }\n",
       "\n",
       "    function displayChart(vegaEmbed) {\n",
       "      vegaEmbed(outputDiv, spec, embedOpt)\n",
       "        .catch(err => showError(`Javascript Error: ${err.message}<br>This usually means there's a typo in your chart specification. See the javascript console for the full traceback.`));\n",
       "    }\n",
       "\n",
       "    if(typeof define === \"function\" && define.amd) {\n",
       "      requirejs.config({paths});\n",
       "      require([\"vega-embed\"], displayChart, err => showError(`Error loading script: ${err.message}`));\n",
       "    } else {\n",
       "      maybeLoadScript(\"vega\", \"5\")\n",
       "        .then(() => maybeLoadScript(\"vega-lite\", \"4.17.0\"))\n",
       "        .then(() => maybeLoadScript(\"vega-embed\", \"6\"))\n",
       "        .catch(showError)\n",
       "        .then(() => displayChart(vegaEmbed));\n",
       "    }\n",
       "  })({\"config\": {\"view\": {\"continuousWidth\": 400, \"continuousHeight\": 300}}, \"data\": {\"url\": \"https://media.githubusercontent.com/media/kmadhura08/kmadhura08.github.io/main/python_notebooks/small_data.csv\"}, \"mark\": {\"type\": \"bar\"}, \"encoding\": {\"color\": {\"field\": \"rideable_type\", \"type\": \"nominal\"}, \"tooltip\": [{\"field\": \"rideable_type\", \"title\": \"Bike-type\", \"type\": \"nominal\"}, {\"field\": \"start_month\", \"title\": \"Month\", \"type\": \"nominal\"}, {\"aggregate\": \"count\", \"field\": \"member_casual\", \"title\": \"Number of Rides\", \"type\": \"quantitative\"}], \"x\": {\"field\": \"start_month\", \"title\": \"Bike Type\", \"type\": \"nominal\"}, \"y\": {\"aggregate\": \"count\", \"field\": \"member_casual\", \"title\": \"Number of Rides\", \"type\": \"quantitative\"}}, \"height\": 350, \"selection\": {\"selector005\": {\"type\": \"interval\", \"bind\": \"scales\", \"encodings\": [\"x\", \"y\"]}}, \"title\": \"Number of Rides by Month\", \"width\": 350, \"$schema\": \"https://vega.github.io/schema/vega-lite/v4.17.0.json\"}, {\"mode\": \"vega-lite\"});\n",
       "</script>"
      ],
      "text/plain": [
       "alt.Chart(...)"
      ]
     },
     "execution_count": 14,
     "metadata": {},
     "output_type": "execute_result"
    }
   ],
   "source": [
    "chart2"
   ]
  },
  {
   "cell_type": "code",
   "execution_count": 20,
   "id": "efceb967",
   "metadata": {},
   "outputs": [
    {
     "data": {
      "text/html": [
       "\n",
       "<div id=\"altair-viz-f6db351b5628407880f4f3ddf05354c0\"></div>\n",
       "<script type=\"text/javascript\">\n",
       "  var VEGA_DEBUG = (typeof VEGA_DEBUG == \"undefined\") ? {} : VEGA_DEBUG;\n",
       "  (function(spec, embedOpt){\n",
       "    let outputDiv = document.currentScript.previousElementSibling;\n",
       "    if (outputDiv.id !== \"altair-viz-f6db351b5628407880f4f3ddf05354c0\") {\n",
       "      outputDiv = document.getElementById(\"altair-viz-f6db351b5628407880f4f3ddf05354c0\");\n",
       "    }\n",
       "    const paths = {\n",
       "      \"vega\": \"https://cdn.jsdelivr.net/npm//vega@5?noext\",\n",
       "      \"vega-lib\": \"https://cdn.jsdelivr.net/npm//vega-lib?noext\",\n",
       "      \"vega-lite\": \"https://cdn.jsdelivr.net/npm//vega-lite@4.17.0?noext\",\n",
       "      \"vega-embed\": \"https://cdn.jsdelivr.net/npm//vega-embed@6?noext\",\n",
       "    };\n",
       "\n",
       "    function maybeLoadScript(lib, version) {\n",
       "      var key = `${lib.replace(\"-\", \"\")}_version`;\n",
       "      return (VEGA_DEBUG[key] == version) ?\n",
       "        Promise.resolve(paths[lib]) :\n",
       "        new Promise(function(resolve, reject) {\n",
       "          var s = document.createElement('script');\n",
       "          document.getElementsByTagName(\"head\")[0].appendChild(s);\n",
       "          s.async = true;\n",
       "          s.onload = () => {\n",
       "            VEGA_DEBUG[key] = version;\n",
       "            return resolve(paths[lib]);\n",
       "          };\n",
       "          s.onerror = () => reject(`Error loading script: ${paths[lib]}`);\n",
       "          s.src = paths[lib];\n",
       "        });\n",
       "    }\n",
       "\n",
       "    function showError(err) {\n",
       "      outputDiv.innerHTML = `<div class=\"error\" style=\"color:red;\">${err}</div>`;\n",
       "      throw err;\n",
       "    }\n",
       "\n",
       "    function displayChart(vegaEmbed) {\n",
       "      vegaEmbed(outputDiv, spec, embedOpt)\n",
       "        .catch(err => showError(`Javascript Error: ${err.message}<br>This usually means there's a typo in your chart specification. See the javascript console for the full traceback.`));\n",
       "    }\n",
       "\n",
       "    if(typeof define === \"function\" && define.amd) {\n",
       "      requirejs.config({paths});\n",
       "      require([\"vega-embed\"], displayChart, err => showError(`Error loading script: ${err.message}`));\n",
       "    } else {\n",
       "      maybeLoadScript(\"vega\", \"5\")\n",
       "        .then(() => maybeLoadScript(\"vega-lite\", \"4.17.0\"))\n",
       "        .then(() => maybeLoadScript(\"vega-embed\", \"6\"))\n",
       "        .catch(showError)\n",
       "        .then(() => displayChart(vegaEmbed));\n",
       "    }\n",
       "  })({\"config\": {\"view\": {\"continuousWidth\": 400, \"continuousHeight\": 300}}, \"layer\": [{\"mark\": {\"type\": \"arc\", \"innerRadius\": 20, \"stroke\": \"#fff\"}, \"encoding\": {\"color\": {\"field\": \"member_casual\", \"type\": \"nominal\"}, \"radius\": {\"aggregate\": \"count\", \"field\": \"member_casual\", \"scale\": {\"rangeMin\": 20, \"type\": \"sqrt\", \"zero\": true}, \"type\": \"quantitative\"}, \"theta\": {\"aggregate\": \"count\", \"field\": \"member_casual\", \"stack\": true, \"type\": \"quantitative\"}}}, {\"mark\": {\"type\": \"text\", \"radiusOffset\": 10}, \"encoding\": {\"color\": {\"field\": \"member_casual\", \"type\": \"nominal\"}, \"radius\": {\"aggregate\": \"count\", \"field\": \"member_casual\", \"scale\": {\"rangeMin\": 20, \"type\": \"sqrt\", \"zero\": true}, \"type\": \"quantitative\"}, \"text\": {\"aggregate\": \"count\", \"field\": \"member_casual\", \"type\": \"quantitative\"}, \"theta\": {\"aggregate\": \"count\", \"field\": \"member_casual\", \"stack\": true, \"type\": \"quantitative\"}}}], \"data\": {\"url\": \"https://media.githubusercontent.com/media/kmadhura08/kmadhura08.github.io/main/python_notebooks/small_data.csv\"}, \"$schema\": \"https://vega.github.io/schema/vega-lite/v4.17.0.json\"}, {\"mode\": \"vega-lite\"});\n",
       "</script>"
      ],
      "text/plain": [
       "alt.LayerChart(...)"
      ]
     },
     "execution_count": 20,
     "metadata": {},
     "output_type": "execute_result"
    }
   ],
   "source": [
    "base = alt.Chart(url).encode(\n",
    "    theta=alt.Theta(\"count(member_casual):Q\", stack=True),\n",
    "    radius=alt.Radius(\"count(member_casual):Q\", scale=alt.Scale(type=\"sqrt\", zero=True, rangeMin=20)),\n",
    "    color=\"member_casual:N\",\n",
    ")\n",
    "\n",
    "c1 = base.mark_arc(innerRadius=20, stroke=\"#fff\")\n",
    "\n",
    "c2 = base.mark_text(radiusOffset=10).encode(text=\"count(member_casual):Q\")\n",
    "\n",
    "c1 + c2\n"
   ]
  },
  {
   "cell_type": "code",
   "execution_count": null,
   "id": "c49e8cc5",
   "metadata": {},
   "outputs": [],
   "source": []
  }
 ],
 "metadata": {
  "kernelspec": {
   "display_name": "Python 3 (ipykernel)",
   "language": "python",
   "name": "python3"
  },
  "language_info": {
   "codemirror_mode": {
    "name": "ipython",
    "version": 3
   },
   "file_extension": ".py",
   "mimetype": "text/x-python",
   "name": "python",
   "nbconvert_exporter": "python",
   "pygments_lexer": "ipython3",
   "version": "3.7.12"
  }
 },
 "nbformat": 4,
 "nbformat_minor": 5
}
