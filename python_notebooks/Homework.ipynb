{
 "cells": [
  {
   "cell_type": "markdown",
   "id": "d129939a",
   "metadata": {},
   "source": [
    "### Homework#10\n",
    "\n",
    "Himank Dave hjdave2@illinois.edu\n",
    "\n",
    "Madhura Kulkarni msk10@illinois.edu"
   ]
  },
  {
   "cell_type": "code",
   "execution_count": null,
   "id": "06055b5d",
   "metadata": {},
   "outputs": [],
   "source": [
    "#importing neccessary libraries\n",
    "import altair as alt\n",
    "import pandas as pd"
   ]
  },
  {
   "cell_type": "code",
   "execution_count": null,
   "id": "4ea89078",
   "metadata": {},
   "outputs": [],
   "source": [
    "alt.Chart.from_dict?"
   ]
  },
  {
   "cell_type": "code",
   "execution_count": null,
   "id": "5b94f1a9",
   "metadata": {},
   "outputs": [],
   "source": [
    "#Reading the data\n",
    "url = \"https://raw.githubusercontent.com/UIUC-iSchool-DataViz/is445_bcubcg_fall2022/main/data/building_inventory.csv\"\n",
    "buildings = pd.read_csv(url)"
   ]
  },
  {
   "cell_type": "code",
   "execution_count": null,
   "id": "ad5433b3",
   "metadata": {},
   "outputs": [],
   "source": [
    "buildings"
   ]
  },
  {
   "cell_type": "code",
   "execution_count": null,
   "id": "cec52b2f",
   "metadata": {},
   "outputs": [],
   "source": [
    "buildings.describe()"
   ]
  },
  {
   "cell_type": "code",
   "execution_count": null,
   "id": "d1234759",
   "metadata": {},
   "outputs": [],
   "source": [
    "buildings.info()"
   ]
  },
  {
   "cell_type": "code",
   "execution_count": null,
   "id": "8361633e",
   "metadata": {},
   "outputs": [],
   "source": [
    "buildings = buildings.dropna()"
   ]
  },
  {
   "cell_type": "code",
   "execution_count": null,
   "id": "f27df8d5",
   "metadata": {},
   "outputs": [],
   "source": [
    "buildings.hist(figsize=(15, 10))"
   ]
  },
  {
   "cell_type": "markdown",
   "id": "a1a8483b",
   "metadata": {},
   "source": [
    "## EDA:\n",
    "1. There were null values, which was dropped from the dataset.\n",
    "2. From a deeper look at the description of ananlysis and histogarm that we have plotted we can create two visualizations,\n",
    "   i.e. Square Footage per County and Number of floors per Usage Category.\n",
    "3. Building Dataset consists of 22 columns and 8862 rows\n",
    "\n",
    "\n",
    "   \n",
    "   For Visualization we intend to use altair object which is defined as alt."
   ]
  },
  {
   "cell_type": "code",
   "execution_count": null,
   "id": "ce4b158a",
   "metadata": {},
   "outputs": [],
   "source": [
    "chart1 = alt.Chart.from_dict(\n",
    "{ 'data': {\"url\": \"https://raw.githubusercontent.com/UIUC-iSchool-DataViz/is445_bcubcg_fall2022/main/data/building_inventory.csv\"\n",
    "  }, \n",
    "  'width' : 350,\n",
    "  'height' : 1000,\n",
    "  'title': \"Square Footage per County\",\n",
    "  'mark': {\"type\":\"bar\", \"tooltip\": {\"content\": \"data\"}},\n",
    "  'encoding': {\n",
    "    \"x\": {\"aggregate\": \"sum\", \"field\": \"Square Footage\", \"type\": \"quantitative\", \"title\": \"Square Footage\"},\n",
    "    \"y\": {\"field\": \"County\", \"type\": \"nominal\"},\n",
    "    \"color\": {\"value\": \"green\"}\n",
    "  }\n",
    "}).interactive()"
   ]
  },
  {
   "cell_type": "code",
   "execution_count": null,
   "id": "c7f0cc1c",
   "metadata": {},
   "outputs": [],
   "source": [
    "chart1"
   ]
  },
  {
   "cell_type": "markdown",
   "id": "fecf3989",
   "metadata": {},
   "source": [
    "This plot is an interactive plot of Square Footage per counties in the state of Illinois.From the look at it we find Cook County has higher number of Square Footage folowed by Champaign and Sangamon."
   ]
  },
  {
   "cell_type": "code",
   "execution_count": null,
   "id": "4307b9a4",
   "metadata": {},
   "outputs": [],
   "source": [
    "myJekyllDir = r'C:\\Users\\PC\\kmadhura08.github.io\\assets\\json\\json'"
   ]
  },
  {
   "cell_type": "code",
   "execution_count": null,
   "id": "6b66f5e0",
   "metadata": {},
   "outputs": [],
   "source": [
    "chart1.properties(width='container').save(myJekyllDir+'sq_footage.json')"
   ]
  },
  {
   "cell_type": "code",
   "execution_count": null,
   "id": "05a343a7",
   "metadata": {},
   "outputs": [],
   "source": [
    "chart2 = alt.Chart.from_dict(\n",
    "{ 'data': {\"url\": \"https://raw.githubusercontent.com/UIUC-iSchool-DataViz/is445_bcubcg_fall2022/main/data/building_inventory.csv\"\n",
    "  }, \n",
    "  'width' : 800,\n",
    "  'height' : 350,\n",
    "  'title': \"Number of Floors per Usage Category\",\n",
    "  'mark': {\"type\":\"bar\", \"tooltip\": {\"content\": \"data\"}},\n",
    "  'encoding': {\n",
    "    \"x\": {\"aggregate\": \"sum\", \"field\": \"Total Floors\", \"type\": \"quantitative\", \"title\": \"Number of Floors\"},\n",
    "    \"y\": {\"field\": \"Usage Description\", \"type\": \"nominal\"},\n",
    "    \"color\": {\"value\": \"blue\"}\n",
    "  }\n",
    "}).interactive()"
   ]
  },
  {
   "cell_type": "code",
   "execution_count": null,
   "id": "e887bd73",
   "metadata": {},
   "outputs": [],
   "source": [
    "chart2"
   ]
  },
  {
   "cell_type": "markdown",
   "id": "8de97759",
   "metadata": {},
   "source": [
    "This Plot is an interactive plot of Number of Floors per Usage Category in the state of Illinois. From the look at it we find Storage has high number of flors that are under use which makes sense."
   ]
  },
  {
   "cell_type": "code",
   "execution_count": null,
   "id": "f0bf5cec",
   "metadata": {},
   "outputs": [],
   "source": [
    "chart2.properties(width='container').save(myJekyllDir+'floors.json')"
   ]
  },
  {
   "cell_type": "code",
   "execution_count": null,
   "id": "fbbadbcc",
   "metadata": {},
   "outputs": [],
   "source": []
  }
 ],
 "metadata": {
  "kernelspec": {
   "display_name": "Python 3 (ipykernel)",
   "language": "python",
   "name": "python3"
  },
  "language_info": {
   "codemirror_mode": {
    "name": "ipython",
    "version": 3
   },
   "file_extension": ".py",
   "mimetype": "text/x-python",
   "name": "python",
   "nbconvert_exporter": "python",
   "pygments_lexer": "ipython3",
   "version": "3.7.12"
  }
 },
 "nbformat": 4,
 "nbformat_minor": 5
}
